{
 "cells": [
  {
   "cell_type": "code",
   "execution_count": 4,
   "metadata": {},
   "outputs": [
    {
     "name": "stdout",
     "output_type": "stream",
     "text": [
      "   0                                                  1  \\\n",
      "0  0  7368 146447 316564 42610 55736 297797 93042 53...   \n",
      "1  1  985531 473628 1044285 1121849 206763 462208 11...   \n",
      "2  2  7368 7368 7368 7368 7368 7368 7368 7368 7368 7...   \n",
      "3  3  529819 1226459 856005 1177293 663773 272235 93...   \n",
      "4  4  42610 1252069 1077049 955883 1125260 1044285 2...   \n",
      "\n",
      "                                                   2  \n",
      "0  816903 565958 726082 764656 335008 75094 20282...  \n",
      "1  729468 520477 529032 101368 335130 520477 1113...  \n",
      "2  816903 816903 816903 816903 816903 816903 8169...  \n",
      "3  231664 1033823 524850 330478 507199 520477 618...  \n",
      "4  545370 379223 162767 520477 1194630 1197475 11...  \n"
     ]
    }
   ],
   "source": [
    "import pandas as pd\n",
    "\n",
    "data = pd.read_csv(r'new_data/test_set.csv')\n",
    "data = data.values\n",
    "data = pd.DataFrame(data)\n",
    "print(data.head())"
   ]
  },
  {
   "cell_type": "code",
   "execution_count": 2,
   "metadata": {},
   "outputs": [
    {
     "name": "stdout",
     "output_type": "stream",
     "text": [
      "                  0\n",
      "count  59049.000000\n",
      "mean       0.300451\n",
      "std        0.057804\n",
      "min        0.200001\n",
      "25%        0.250256\n",
      "50%        0.300859\n",
      "75%        0.350224\n",
      "max        0.399998\n"
     ]
    }
   ],
   "source": [
    "import pandas as pd\n",
    "\n",
    "data = pd.read_csv('label.csv',usecols=['SituComp'])\n",
    "data = data.values\n",
    "data = pd.DataFrame(data)\n",
    "print(data.describe())"
   ]
  },
  {
   "cell_type": "code",
   "execution_count": null,
   "metadata": {},
   "outputs": [],
   "source": []
  }
 ],
 "metadata": {
  "kernelspec": {
   "display_name": "Python 3",
   "language": "python",
   "name": "python3"
  },
  "language_info": {
   "codemirror_mode": {
    "name": "ipython",
    "version": 3
   },
   "file_extension": ".py",
   "mimetype": "text/x-python",
   "name": "python",
   "nbconvert_exporter": "python",
   "pygments_lexer": "ipython3",
   "version": "3.7.3"
  }
 },
 "nbformat": 4,
 "nbformat_minor": 2
}
