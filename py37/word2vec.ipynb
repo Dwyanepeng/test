{
 "cells": [
  {
   "cell_type": "code",
   "execution_count": 15,
   "metadata": {},
   "outputs": [
    {
     "name": "stderr",
     "output_type": "stream",
     "text": [
      "[nltk_data] Downloading package brown to\n",
      "[nltk_data]     C:\\Users\\admin\\AppData\\Roaming\\nltk_data...\n",
      "[nltk_data]   Package brown is already up-to-date!\n",
      "2019-07-01 13:16:01,530 : INFO : loading Word2Vec object from brown_skipgram.model\n",
      "C:\\Users\\admin\\Anaconda3\\lib\\site-packages\\smart_open\\smart_open_lib.py:398: UserWarning: This function is deprecated, use smart_open.open instead. See the migration notes for details: https://github.com/RaRe-Technologies/smart_open/blob/master/README.rst#migrating-to-the-new-open-function\n",
      "  'See the migration notes for details: %s' % _MIGRATION_NOTES_URL\n",
      "2019-07-01 13:16:01,727 : INFO : loading wv recursively from brown_skipgram.model.wv.* with mmap=None\n",
      "2019-07-01 13:16:01,728 : INFO : setting ignored attribute vectors_norm to None\n",
      "2019-07-01 13:16:01,728 : INFO : loading vocabulary recursively from brown_skipgram.model.vocabulary.* with mmap=None\n",
      "2019-07-01 13:16:01,729 : INFO : loading trainables recursively from brown_skipgram.model.trainables.* with mmap=None\n",
      "2019-07-01 13:16:01,729 : INFO : setting ignored attribute cum_table to None\n",
      "2019-07-01 13:16:01,729 : INFO : loaded brown_skipgram.model\n"
     ]
    }
   ],
   "source": [
    "import gensim, logging, os\n",
    "logging.basicConfig(format='%(asctime)s : %(levelname)s : %(message)s', level=logging.INFO)\n",
    "\n",
    "import nltk\n",
    "nltk.download('brown')\n",
    "corpus = nltk.corpus.brown.sents()\n",
    "\n",
    "fname = 'brown_skipgram.model'\n",
    "if os.path.exists(fname):\n",
    "    model = gensim.models.Word2Vec.load(fname)\n",
    "else:\n",
    "    model = gensim.models.Word2Vec(corpus, size=100, min_count=5, workers=2, iter=50)\n",
    "    model.save(fname)\n",
    "    "
   ]
  },
  {
   "cell_type": "code",
   "execution_count": 22,
   "metadata": {},
   "outputs": [
    {
     "name": "stdout",
     "output_type": "stream",
     "text": [
      "woman woman 1.0\n",
      "woman women 0.45691456927637314\n",
      "woman man 0.6350898255935994\n",
      "woman girl 0.7379687740145092\n",
      "woman boy 0.6278982908150674\n",
      "woman green 0.2719606939370335\n",
      "woman blue 0.23461111571020238\n",
      "woman did 0.046272059995909665\n",
      "women woman 0.45691456927637314\n",
      "women women 1.0000000000000002\n",
      "women man 0.1904726735139184\n",
      "women girl 0.30906963146088184\n",
      "women boy 0.2835397881070414\n",
      "women green 0.11486780356963791\n",
      "women blue 0.10559758870785951\n",
      "women did 0.08718211919196887\n",
      "man woman 0.6350898255935994\n",
      "man women 0.1904726735139184\n",
      "man man 0.9999999999999999\n",
      "man girl 0.6098892825271158\n",
      "man boy 0.5831438844799812\n",
      "man green 0.1127979471243022\n",
      "man blue 0.05022675214059574\n",
      "man did 0.030351378447386102\n",
      "girl woman 0.7379687740145092\n",
      "girl women 0.30906963146088184\n",
      "girl man 0.6098892825271158\n",
      "girl girl 1.0\n",
      "girl boy 0.6991343380996002\n",
      "girl green 0.27706953554034375\n",
      "girl blue 0.24379481813313933\n",
      "girl did -0.028862449286798993\n",
      "boy woman 0.6278982908150674\n",
      "boy women 0.2835397881070414\n",
      "boy man 0.5831438844799812\n",
      "boy girl 0.6991343380996002\n",
      "boy boy 1.0\n",
      "boy green 0.2123631514293707\n",
      "boy blue 0.2400289402710146\n",
      "boy did -0.036530345077561144\n",
      "green woman 0.2719606939370335\n",
      "green women 0.11486780356963791\n",
      "green man 0.1127979471243022\n",
      "green girl 0.27706953554034375\n",
      "green boy 0.2123631514293707\n",
      "green green 1.0000000000000002\n",
      "green blue 0.5672946074036274\n",
      "green did -0.08369572112091775\n",
      "blue woman 0.23461111571020238\n",
      "blue women 0.10559758870785951\n",
      "blue man 0.05022675214059574\n",
      "blue girl 0.24379481813313933\n",
      "blue boy 0.2400289402710146\n",
      "blue green 0.5672946074036274\n",
      "blue blue 0.9999999999999999\n",
      "blue did -0.1648256483050508\n",
      "did woman 0.046272059995909665\n",
      "did women 0.08718211919196887\n",
      "did man 0.030351378447386102\n",
      "did girl -0.028862449286798993\n",
      "did boy -0.036530345077561144\n",
      "did green -0.08369572112091775\n",
      "did blue -0.1648256483050508\n",
      "did did 1.0\n"
     ]
    },
    {
     "name": "stderr",
     "output_type": "stream",
     "text": [
      "C:\\Users\\admin\\Anaconda3\\lib\\site-packages\\ipykernel_launcher.py:4: DeprecationWarning: Call to deprecated `similarity` (Method will be removed in 4.0.0, use self.wv.similarity() instead).\n",
      "  after removing the cwd from sys.path.\n"
     ]
    }
   ],
   "source": [
    "words = \"woman women man girl boy green blue did\".split()\n",
    "for w1 in words:\n",
    "    for w2 in words:\n",
    "        print(w1, w2, model.similarity(w1, w2))"
   ]
  },
  {
   "cell_type": "code",
   "execution_count": 24,
   "metadata": {},
   "outputs": [
    {
     "name": "stderr",
     "output_type": "stream",
     "text": [
      "C:\\Users\\admin\\Anaconda3\\lib\\site-packages\\ipykernel_launcher.py:9: DeprecationWarning: Call to deprecated `similarity` (Method will be removed in 4.0.0, use self.wv.similarity() instead).\n",
      "  if __name__ == '__main__':\n"
     ]
    },
    {
     "data": {
      "text/plain": [
       "[Text(0, 0, ''),\n",
       " Text(0, 0, 'woman'),\n",
       " Text(0, 0, 'women'),\n",
       " Text(0, 0, 'man'),\n",
       " Text(0, 0, 'girl'),\n",
       " Text(0, 0, 'boy'),\n",
       " Text(0, 0, 'green'),\n",
       " Text(0, 0, 'blue'),\n",
       " Text(0, 0, 'did')]"
      ]
     },
     "execution_count": 24,
     "metadata": {},
     "output_type": "execute_result"
    },
    {
     "data": {
      "image/png": "[encoded data removed]",
      "text/plain": [
       "<Figure size 432x288 with 2 Axes>"
      ]
     },
     "metadata": {
      "needs_background": "light"
     },
     "output_type": "display_data"
    }
   ],
   "source": [
    "import numpy as np\n",
    "import matplotlib.pyplot as plt\n",
    "%matplotlib inline\n",
    "words = \"woman women man girl boy green blue did\".split()\n",
    "\n",
    "M = np.zeros((len(words), len(words)))\n",
    "for i, w1 in enumerate(words):\n",
    "    for j, w2 in enumerate(words):\n",
    "        M[i, j] = model.similarity(w1, w2)\n",
    "        \n",
    "plt.imshow(M, interpolation='nearest')\n",
    "plt.colorbar()\n",
    "\n",
    "ax = plt.gca()\n",
    "ax.set_xticklabels([''] + words, rotation=45)\n",
    "ax.set_yticklabels([''] + words)"
   ]
  },
  {
   "cell_type": "code",
   "execution_count": 26,
   "metadata": {},
   "outputs": [
    {
     "name": "stderr",
     "output_type": "stream",
     "text": [
      "C:\\Users\\admin\\Anaconda3\\lib\\site-packages\\ipykernel_launcher.py:1: DeprecationWarning: Call to deprecated `most_similar` (Method will be removed in 4.0.0, use self.wv.most_similar() instead).\n",
      "  \"\"\"Entry point for launching an IPython kernel.\n",
      "2019-07-01 13:25:20,206 : INFO : precomputing L2-norms of word weight vectors\n"
     ]
    },
    {
     "data": {
      "text/plain": [
       "[('woman', 0.6350898742675781),\n",
       " ('girl', 0.6098892688751221),\n",
       " ('boy', 0.5831438302993774),\n",
       " ('person', 0.562477707862854),\n",
       " ('writer', 0.5544531345367432),\n",
       " ('guy', 0.5303043723106384),\n",
       " ('citizen', 0.5004198551177979),\n",
       " ('child', 0.4916771948337555),\n",
       " ('lady', 0.48987191915512085),\n",
       " ('victim', 0.4763389825820923)]"
      ]
     },
     "execution_count": 26,
     "metadata": {},
     "output_type": "execute_result"
    }
   ],
   "source": [
    "model.most_similar(positive=['man'], topn=10)"
   ]
  },
  {
   "cell_type": "code",
   "execution_count": null,
   "metadata": {},
   "outputs": [],
   "source": []
  }
 ],
 "metadata": {
  "kernelspec": {
   "display_name": "Python 3",
   "language": "python",
   "name": "python3"
  },
  "language_info": {
   "codemirror_mode": {
    "name": "ipython",
    "version": 3
   },
   "file_extension": ".py",
   "mimetype": "text/x-python",
   "name": "python",
   "nbconvert_exporter": "python",
   "pygments_lexer": "ipython3",
   "version": "3.7.3"
  }
 },
 "nbformat": 4,
 "nbformat_minor": 2
}
